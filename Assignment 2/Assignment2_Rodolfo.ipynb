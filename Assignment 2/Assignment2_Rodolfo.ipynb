{
 "cells": [
  {
   "cell_type": "markdown",
   "metadata": {},
   "source": [
    "# Assignment 2: K-Means & DBSCAN"
   ]
  },
  {
   "cell_type": "markdown",
   "metadata": {},
   "source": [
    "1. Retrieve and load the Olivetti faces dataset"
   ]
  },
  {
   "cell_type": "code",
   "execution_count": 1,
   "metadata": {},
   "outputs": [],
   "source": [
    "from sklearn.datasets import fetch_olivetti_faces\n",
    "\n",
    "# Load Olivetti faces dataset\n",
    "data = fetch_olivetti_faces(shuffle=True, random_state=86)\n",
    "X, y = data.data, data.target"
   ]
  },
  {
   "cell_type": "markdown",
   "metadata": {},
   "source": [
    "2. Split the training set, a validation set, and a test set using stratified sampling to ensure that there are the same number of images per person in each set. Provide your rationale for the split ratio [10 points]"
   ]
  },
  {
   "cell_type": "code",
   "execution_count": 2,
   "metadata": {},
   "outputs": [],
   "source": [
    "from sklearn.model_selection import train_test_split\n",
    "\n",
    "# 60% training, 20% validation, 20% test\n",
    "X_train, X_temp, y_train, y_temp = train_test_split(X, y, test_size=0.4, stratify=y, random_state=86)\n",
    "X_val, X_test, y_val, y_test = train_test_split(X_temp, y_temp, test_size=0.5, stratify=y_temp, random_state=86)"
   ]
  },
  {
   "cell_type": "markdown",
   "metadata": {},
   "source": [
    "3. Using k-fold cross validation, train a classifier to predict which person is represented in each picture, and evaluate it on the validation set."
   ]
  },
  {
   "cell_type": "code",
   "execution_count": 3,
   "metadata": {},
   "outputs": [
    {
     "name": "stdout",
     "output_type": "stream",
     "text": [
      "Cross-validation scores: [0.91666667 0.875      0.9375     0.89583333 0.9375    ]\n",
      "Validation score: 0.95\n"
     ]
    }
   ],
   "source": [
    "from sklearn.svm import SVC\n",
    "from sklearn.model_selection import StratifiedKFold, cross_val_score\n",
    "\n",
    "# Initialize the classifier\n",
    "clf = SVC(kernel='linear', random_state=86)\n",
    "\n",
    "# Perform k-fold cross-validation\n",
    "skf = StratifiedKFold(n_splits=5)\n",
    "scores = cross_val_score(clf, X_train, y_train, cv=skf)\n",
    "\n",
    "# Train on the full training set and evaluate on the validation set\n",
    "clf.fit(X_train, y_train)\n",
    "val_score = clf.score(X_val, y_val)\n",
    "\n",
    "print(f'Cross-validation scores: {scores}')\n",
    "print(f'Validation score: {val_score}')"
   ]
  },
  {
   "cell_type": "markdown",
   "metadata": {},
   "source": [
    "4. Use K-Means to reduce the dimensionality of the set. Provide your rationale for the similarity measure used to perform the clustering. Use the silhouette score approach to choose the number of clusters."
   ]
  },
  {
   "cell_type": "code",
   "execution_count": 4,
   "metadata": {},
   "outputs": [
    {
     "name": "stdout",
     "output_type": "stream",
     "text": [
      "Optimal number of clusters: 69\n"
     ]
    }
   ],
   "source": [
    "from sklearn.cluster import KMeans\n",
    "from sklearn.metrics import silhouette_score\n",
    "\n",
    "# Determine the optimal number of clusters using silhouette score\n",
    "sil_scores = []\n",
    "k_range = range(2, 70)\n",
    "for k in k_range:\n",
    "    kmeans = KMeans(n_clusters=k, random_state=86)\n",
    "    kmeans.fit(X_train)\n",
    "    sil_scores.append(silhouette_score(X_train, kmeans.labels_))\n",
    "\n",
    "optimal_k = k_range[sil_scores.index(max(sil_scores))]\n",
    "print(f'Optimal number of clusters: {optimal_k}')\n",
    "\n",
    "# Apply K-Means with the optimal number of clusters\n",
    "kmeans = KMeans(n_clusters=optimal_k, random_state=42)\n",
    "X_train_reduced = kmeans.fit_transform(X_train)\n",
    "X_val_reduced = kmeans.transform(X_val)\n",
    "X_test_reduced = kmeans.transform(X_test)\n"
   ]
  },
  {
   "cell_type": "markdown",
   "metadata": {},
   "source": [
    "5. Use the set from step (4) to train a classifier as in step (3)   "
   ]
  },
  {
   "cell_type": "code",
   "execution_count": 5,
   "metadata": {},
   "outputs": [
    {
     "name": "stdout",
     "output_type": "stream",
     "text": [
      "Cross-validation scores on reduced data: [0.8125     0.8125     0.83333333 0.79166667 0.83333333]\n",
      "Validation score on reduced data: 0.875\n"
     ]
    }
   ],
   "source": [
    "# Perform k-fold cross-validation on the reduced dataset\n",
    "clf = SVC(kernel='linear', random_state=86)\n",
    "scores_reduced = cross_val_score(clf, X_train_reduced, y_train, cv=skf)\n",
    "\n",
    "# Train on the full reduced training set and evaluate on the reduced validation set\n",
    "clf.fit(X_train_reduced, y_train)\n",
    "val_score_reduced = clf.score(X_val_reduced, y_val)\n",
    "\n",
    "print(f'Cross-validation scores on reduced data: {scores_reduced}')\n",
    "print(f'Validation score on reduced data: {val_score_reduced}')"
   ]
  },
  {
   "cell_type": "markdown",
   "metadata": {},
   "source": [
    "6. Apply DBSCAN (Density-Based Spatial Clustering of Applications with Noise) algorithm to the Olivetti Faces dataset for clustering. Preprocess the images and convert them into feature vectors, then use DBSCAN to group similar images together based on their density. Provide your rationale for the similarity measure used to perform the clustering, considering the nature of facial image data."
   ]
  },
  {
   "cell_type": "code",
   "execution_count": 6,
   "metadata": {},
   "outputs": [
    {
     "data": {
      "image/png": "[encoded data removed]",
      "text/plain": [
       "<Figure size 640x480 with 1 Axes>"
      ]
     },
     "metadata": {},
     "output_type": "display_data"
    }
   ],
   "source": [
    "from sklearn.cluster import DBSCAN\n",
    "from sklearn.preprocessing import StandardScaler\n",
    "\n",
    "# Standardize the data\n",
    "X_train_scaled = StandardScaler().fit_transform(X_train)\n",
    "\n",
    "eps_values = []\n",
    "n_clusters_list = []\n",
    "\n",
    "for eps in range(5, 100, 5): \n",
    "    dbscan = DBSCAN(eps=eps, min_samples=5)\n",
    "    dbscan_labels = dbscan.fit_predict(X_train_scaled)\n",
    "    \n",
    "    n_clusters = len(set(dbscan_labels)) - (1 if -1 in dbscan_labels else 0)\n",
    "    eps_values.append(eps)\n",
    "    n_clusters_list.append(n_clusters)\n",
    "\n",
    "# Plot to find the \"elbow\"\n",
    "import matplotlib.pyplot as plt\n",
    "\n",
    "plt.plot(eps_values, n_clusters_list, marker='o')\n",
    "plt.xlabel('eps value')\n",
    "plt.ylabel('Number of Clusters')\n",
    "plt.title('Elbow Method for DBSCAN')\n",
    "plt.show()"
   ]
  },
  {
   "cell_type": "code",
   "execution_count": 7,
   "metadata": {},
   "outputs": [
    {
     "name": "stdout",
     "output_type": "stream",
     "text": [
      "For eps=40:\n",
      " - Number of clusters: 0\n",
      " - Number of noise points: 240\n",
      "------------------------------\n",
      "For eps=45:\n",
      " - Number of clusters: 2\n",
      " - Number of noise points: 225\n",
      "------------------------------\n",
      "For eps=50:\n",
      " - Number of clusters: 5\n",
      " - Number of noise points: 165\n",
      "------------------------------\n",
      "For eps=55:\n",
      " - Number of clusters: 8\n",
      " - Number of noise points: 106\n",
      "------------------------------\n"
     ]
    }
   ],
   "source": [
    "# Iterate over the eps range \n",
    "for eps in range(40, 60, 5):  \n",
    "    dbscan_optimal = DBSCAN(eps=eps, min_samples=5)\n",
    "    dbscan_labels_optimal = dbscan_optimal.fit_predict(X_train_scaled)\n",
    "    \n",
    "    # Count the number of clusters and noise points\n",
    "    n_clusters_optimal = len(set(dbscan_labels_optimal)) - (1 if -1 in dbscan_labels_optimal else 0)\n",
    "    n_noise_optimal = list(dbscan_labels_optimal).count(-1)\n",
    "\n",
    "    # Print results for each eps value\n",
    "    print(f'For eps={eps}:')\n",
    "    print(f' - Number of clusters: {n_clusters_optimal}')\n",
    "    print(f' - Number of noise points: {n_noise_optimal}')\n",
    "    print('-' * 30)"
   ]
  }
 ],
 "metadata": {
  "kernelspec": {
   "display_name": "Python 3",
   "language": "python",
   "name": "python3"
  },
  "language_info": {
   "codemirror_mode": {
    "name": "ipython",
    "version": 3
   },
   "file_extension": ".py",
   "mimetype": "text/x-python",
   "name": "python",
   "nbconvert_exporter": "python",
   "pygments_lexer": "ipython3",
   "version": "3.12.5"
  }
 },
 "nbformat": 4,
 "nbformat_minor": 2
}
